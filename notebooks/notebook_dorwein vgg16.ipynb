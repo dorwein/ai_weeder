{
 "cells": [
  {
   "cell_type": "markdown",
   "metadata": {},
   "source": [
    "# Seedling Image Classification "
   ]
  },
  {
   "cell_type": "code",
   "execution_count": 3,
   "metadata": {},
   "outputs": [
    {
     "name": "stdout",
     "output_type": "stream",
     "text": [
      "keras                        2.10.0\n"
     ]
    }
   ],
   "source": [
    "! pip list | grep keras"
   ]
  },
  {
   "cell_type": "code",
   "execution_count": 5,
   "metadata": {},
   "outputs": [],
   "source": [
    "import os\n",
    "import numpy as np\n",
    "import pandas as pd\n",
    "\n",
    "from PIL import Image\n",
    "\n",
    "import matplotlib.pyplot as plt\n",
    "\n",
    "from tensorflow.keras.preprocessing import image\n",
    "from tensorflow.keras.applications import VGG16\n",
    "from tensorflow.keras.applications.vgg16 import preprocess_input\n",
    "\n",
    "# %matplotlib inline"
   ]
  },
  {
   "cell_type": "markdown",
   "metadata": {},
   "source": [
    "## Loading the data\n",
    "- X -> list of all the images\n",
    "- y -> list of all the corresponding labels\n"
   ]
  },
  {
   "cell_type": "code",
   "execution_count": 11,
   "metadata": {},
   "outputs": [],
   "source": [
    "\n",
    "def load_data(path):\n",
    "\n",
    "    # Define the subdirectories for each class\n",
    "    classes = {'Black-grass': 0 ,\n",
    "                'Charlock': 1,\n",
    "                'Cleavers': 2,\n",
    "                'Common Chickweed': 3,\n",
    "                'Common wheat': 4,\n",
    "                'Fat Hen': 5,\n",
    "                'Loose Silky-bent': 6,\n",
    "                'Maize': 7,\n",
    "                'Scentless Mayweed': 8,\n",
    "                'Shepherds Purse': 9,\n",
    "                'Small-flowered Cranesbill': 10,\n",
    "                'Sugar beet': 11\n",
    "                }\n",
    "\n",
    "    # Initialize lists for images and labels\n",
    "    X, y = [], []\n",
    "\n",
    "    # Loop over each class\n",
    "    for class_name, label in classes.items():\n",
    "        class_dir = os.path.join(path, class_name)  # Path to the class directory\n",
    "        # Get a list of all files in the class directory\n",
    "        for file_name in os.listdir(class_dir):\n",
    "            # Ensure we are only loading .png\n",
    "            if file_name.endswith('.png'):\n",
    "                file_path = os.path.join(class_dir, file_name)\n",
    "                img = Image.open(file_path)\n",
    "                # Add the image and label to the list\n",
    "                X.append(img)\n",
    "                y.append(label)\n",
    "\n",
    "    # Shuffle the dataset\n",
    "    c = list(zip(X, y))\n",
    "    np.random.shuffle(c)\n",
    "    X, y = zip(*c)\n",
    "\n",
    "    return list(X), list(y)\n",
    "\n",
    "data_path = '../raw_data/images'\n",
    "\n",
    "X, y = load_data(data_path)"
   ]
  },
  {
   "cell_type": "markdown",
   "metadata": {},
   "source": [
    "#### vgg16 preprocessing the images:"
   ]
  },
  {
   "cell_type": "code",
   "execution_count": 12,
   "metadata": {},
   "outputs": [
    {
     "ename": "",
     "evalue": "",
     "output_type": "error",
     "traceback": [
      "\u001b[1;31mThe Kernel crashed while executing code in the current cell or a previous cell. \n",
      "\u001b[1;31mPlease review the code in the cell(s) to identify a possible cause of the failure. \n",
      "\u001b[1;31mClick <a href='https://aka.ms/vscodeJupyterKernelCrash'>here</a> for more info. \n",
      "\u001b[1;31mView Jupyter <a href='command:jupyter.viewOutput'>log</a> for further details."
     ]
    }
   ],
   "source": [
    "def preprocess_images(X):\n",
    "    processed_images = []\n",
    "    for img in X:\n",
    "        # Convert image to RGB if it is not already in RGB format\n",
    "        if img.mode != 'RGB':\n",
    "            img = img.convert('RGB')\n",
    "\n",
    "        # Resize image to 224x224\n",
    "        img_resized = img.resize((224, 224))\n",
    "\n",
    "        # Convert image to array\n",
    "        img_array = image.img_to_array(img_resized)\n",
    "\n",
    "        # Preprocess image for VGG16\n",
    "        img_array = preprocess_input(img_array)\n",
    "\n",
    "        processed_images.append(img_array)\n",
    "\n",
    "    return np.array(processed_images)\n",
    "\n",
    "# Preprocess the images\n",
    "X_processed = preprocess_images(X)\n"
   ]
  }
 ],
 "metadata": {
  "kernelspec": {
   "display_name": "ai_weeder",
   "language": "python",
   "name": "python3"
  },
  "language_info": {
   "codemirror_mode": {
    "name": "ipython",
    "version": 3
   },
   "file_extension": ".py",
   "mimetype": "text/x-python",
   "name": "python",
   "nbconvert_exporter": "python",
   "pygments_lexer": "ipython3",
   "version": "3.10.6"
  }
 },
 "nbformat": 4,
 "nbformat_minor": 2
}
