{
 "cells": [
  {
   "cell_type": "code",
   "execution_count": 7,
   "metadata": {},
   "outputs": [],
   "source": [
    "import glob\n",
    "import os\n",
    "from tensorflow import keras"
   ]
  },
  {
   "cell_type": "code",
   "execution_count": 2,
   "metadata": {},
   "outputs": [
    {
     "name": "stderr",
     "output_type": "stream",
     "text": [
      "2024-09-05 12:12:54.883055: W tensorflow/stream_executor/platform/default/dso_loader.cc:64] Could not load dynamic library 'libcuda.so.1'; dlerror: libcuda.so.1: cannot open shared object file: No such file or directory; LD_LIBRARY_PATH: /usr/local/lib:/home/roisin/software/heasoft-6.31.1src/heasoft-6.31.1/x86_64-pc-linux-gnu-libc2.35/lib\n",
      "2024-09-05 12:12:54.883078: W tensorflow/stream_executor/cuda/cuda_driver.cc:263] failed call to cuInit: UNKNOWN ERROR (303)\n",
      "2024-09-05 12:12:54.883093: I tensorflow/stream_executor/cuda/cuda_diagnostics.cc:156] kernel driver does not appear to be running on this host (roisin-ThinkPad-E15): /proc/driver/nvidia/version does not exist\n",
      "2024-09-05 12:12:54.883322: I tensorflow/core/platform/cpu_feature_guard.cc:193] This TensorFlow binary is optimized with oneAPI Deep Neural Network Library (oneDNN) to use the following CPU instructions in performance-critical operations:  AVX2 FMA\n",
      "To enable them in other operations, rebuild TensorFlow with the appropriate compiler flags.\n"
     ]
    }
   ],
   "source": [
    "latest_model = keras.models.load_model(\"base_vgg16_model.keras\")\n"
   ]
  },
  {
   "cell_type": "code",
   "execution_count": 10,
   "metadata": {},
   "outputs": [],
   "source": [
    "MODEL_TARGET = \"local\"\n",
    "LOCAL_REGISTRY_PATH =  os.path.join(os.path.expanduser('~'), \"code\", \"dorwein\", \"ai_weeder\")"
   ]
  },
  {
   "cell_type": "code",
   "execution_count": 11,
   "metadata": {},
   "outputs": [
    {
     "data": {
      "text/plain": [
       "'/home/roisin/code/dorwein/ai_weeder'"
      ]
     },
     "execution_count": 11,
     "metadata": {},
     "output_type": "execute_result"
    }
   ],
   "source": [
    "LOCAL_REGISTRY_PATH"
   ]
  },
  {
   "cell_type": "code",
   "execution_count": 3,
   "metadata": {},
   "outputs": [],
   "source": [
    "def load_model() -> keras.Model:\n",
    "    \"\"\"\n",
    "    Return a saved model locally (latest one in alphabetical order)\n",
    "\n",
    "    Return None (but do not Raise) if no model is found\n",
    "\n",
    "    \"\"\"\n",
    "\n",
    "    if MODEL_TARGET == \"local\":\n",
    "        print(\"Load latest model from local registry...\")\n",
    "\n",
    "        # Get the latest model version name by the timestamp on disk\n",
    "        local_model_directory = os.path.join(LOCAL_REGISTRY_PATH, \"models\")\n",
    "        local_model_paths = glob.glob(f\"{local_model_directory}/*\")\n",
    "\n",
    "        if not local_model_paths:\n",
    "            return None\n",
    "\n",
    "        most_recent_model_path_on_disk = sorted(local_model_paths)[-1]\n",
    "\n",
    "        print(\"Load latest model from disk...\")\n",
    "\n",
    "        latest_model = keras.models.load_model(most_recent_model_path_on_disk)\n",
    "\n",
    "        print(\"✅ Model loaded from local disk\")\n",
    "\n",
    "        return latest_model\n"
   ]
  },
  {
   "cell_type": "code",
   "execution_count": 12,
   "metadata": {},
   "outputs": [
    {
     "name": "stdout",
     "output_type": "stream",
     "text": [
      "Load latest model from local registry...\n",
      "Load latest model from disk...\n",
      "✅ Model loaded from local disk\n"
     ]
    },
    {
     "data": {
      "text/plain": [
       "<keras.engine.sequential.Sequential at 0x71c5a499be80>"
      ]
     },
     "execution_count": 12,
     "metadata": {},
     "output_type": "execute_result"
    }
   ],
   "source": [
    "load_model()"
   ]
  }
 ],
 "metadata": {
  "kernelspec": {
   "display_name": "Python 3 (ipykernel)",
   "language": "python",
   "name": "python3"
  },
  "language_info": {
   "codemirror_mode": {
    "name": "ipython",
    "version": 3
   },
   "file_extension": ".py",
   "mimetype": "text/x-python",
   "name": "python",
   "nbconvert_exporter": "python",
   "pygments_lexer": "ipython3",
   "version": "3.10.6"
  }
 },
 "nbformat": 4,
 "nbformat_minor": 4
}
